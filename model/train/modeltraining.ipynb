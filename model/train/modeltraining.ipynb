{
 "cells": [
  {
   "cell_type": "markdown",
   "metadata": {},
   "source": [
    "This notebook is used for model training"
   ]
  },
  {
   "cell_type": "code",
   "execution_count": 5,
   "metadata": {},
   "outputs": [],
   "source": [
    "import pickle\n",
    "import neurokit2 as nk\n",
    "import pandas as pd\n",
    "import os\n",
    "\n",
    "from sklearn.metrics import classification_report, confusion_matrix, accuracy_score\n",
    "import matplotlib.pyplot as plt\n",
    "import seaborn as sns\n",
    "import numpy as np\n"
   ]
  },
  {
   "cell_type": "code",
   "execution_count": 107,
   "metadata": {},
   "outputs": [],
   "source": [
    "import os\n",
    "import pickle\n",
    "import pandas as pd\n",
    "import neurokit2 as nk\n",
    "\n",
    "data_path = './'\n",
    "segment_duration_sec = 10\n",
    "sampling_rate = 700  # ECG信号采样率700Hz\n",
    "segment_length = int(segment_duration_sec * sampling_rate)  # 小段采样点数量"
   ]
  },
  {
   "cell_type": "code",
   "execution_count": 108,
   "metadata": {},
   "outputs": [
    {
     "name": "stderr",
     "output_type": "stream",
     "text": [
      "/opt/homebrew/Caskroom/miniforge/base/envs/tensorflow_v2/lib/python3.9/site-packages/neurokit2/signal/signal_phase.py:95: RuntimeWarning: invalid value encountered in remainder\n",
      "  prophase = np.mod(np.angle(scipy.signal.hilbert(signal)), pi2)\n",
      "/opt/homebrew/Caskroom/miniforge/base/envs/tensorflow_v2/lib/python3.9/site-packages/neurokit2/signal/signal_phase.py:95: RuntimeWarning: invalid value encountered in remainder\n",
      "  prophase = np.mod(np.angle(scipy.signal.hilbert(signal)), pi2)\n",
      "/opt/homebrew/Caskroom/miniforge/base/envs/tensorflow_v2/lib/python3.9/site-packages/neurokit2/signal/signal_phase.py:95: RuntimeWarning: invalid value encountered in remainder\n",
      "  prophase = np.mod(np.angle(scipy.signal.hilbert(signal)), pi2)\n",
      "/opt/homebrew/Caskroom/miniforge/base/envs/tensorflow_v2/lib/python3.9/site-packages/neurokit2/signal/signal_phase.py:95: RuntimeWarning: invalid value encountered in remainder\n",
      "  prophase = np.mod(np.angle(scipy.signal.hilbert(signal)), pi2)\n",
      "/opt/homebrew/Caskroom/miniforge/base/envs/tensorflow_v2/lib/python3.9/site-packages/neurokit2/signal/signal_phase.py:95: RuntimeWarning: invalid value encountered in remainder\n",
      "  prophase = np.mod(np.angle(scipy.signal.hilbert(signal)), pi2)\n",
      "/opt/homebrew/Caskroom/miniforge/base/envs/tensorflow_v2/lib/python3.9/site-packages/neurokit2/signal/signal_phase.py:95: RuntimeWarning: invalid value encountered in remainder\n",
      "  prophase = np.mod(np.angle(scipy.signal.hilbert(signal)), pi2)\n",
      "/opt/homebrew/Caskroom/miniforge/base/envs/tensorflow_v2/lib/python3.9/site-packages/neurokit2/signal/signal_phase.py:95: RuntimeWarning: invalid value encountered in remainder\n",
      "  prophase = np.mod(np.angle(scipy.signal.hilbert(signal)), pi2)\n",
      "/opt/homebrew/Caskroom/miniforge/base/envs/tensorflow_v2/lib/python3.9/site-packages/neurokit2/signal/signal_phase.py:95: RuntimeWarning: invalid value encountered in remainder\n",
      "  prophase = np.mod(np.angle(scipy.signal.hilbert(signal)), pi2)\n",
      "/opt/homebrew/Caskroom/miniforge/base/envs/tensorflow_v2/lib/python3.9/site-packages/neurokit2/signal/signal_phase.py:95: RuntimeWarning: invalid value encountered in remainder\n",
      "  prophase = np.mod(np.angle(scipy.signal.hilbert(signal)), pi2)\n",
      "/opt/homebrew/Caskroom/miniforge/base/envs/tensorflow_v2/lib/python3.9/site-packages/neurokit2/signal/signal_phase.py:95: RuntimeWarning: invalid value encountered in remainder\n",
      "  prophase = np.mod(np.angle(scipy.signal.hilbert(signal)), pi2)\n",
      "/opt/homebrew/Caskroom/miniforge/base/envs/tensorflow_v2/lib/python3.9/site-packages/neurokit2/signal/signal_phase.py:95: RuntimeWarning: invalid value encountered in remainder\n",
      "  prophase = np.mod(np.angle(scipy.signal.hilbert(signal)), pi2)\n",
      "/opt/homebrew/Caskroom/miniforge/base/envs/tensorflow_v2/lib/python3.9/site-packages/neurokit2/signal/signal_phase.py:95: RuntimeWarning: invalid value encountered in remainder\n",
      "  prophase = np.mod(np.angle(scipy.signal.hilbert(signal)), pi2)\n",
      "/opt/homebrew/Caskroom/miniforge/base/envs/tensorflow_v2/lib/python3.9/site-packages/neurokit2/signal/signal_phase.py:95: RuntimeWarning: invalid value encountered in remainder\n",
      "  prophase = np.mod(np.angle(scipy.signal.hilbert(signal)), pi2)\n",
      "/opt/homebrew/Caskroom/miniforge/base/envs/tensorflow_v2/lib/python3.9/site-packages/neurokit2/signal/signal_phase.py:95: RuntimeWarning: invalid value encountered in remainder\n",
      "  prophase = np.mod(np.angle(scipy.signal.hilbert(signal)), pi2)\n",
      "/opt/homebrew/Caskroom/miniforge/base/envs/tensorflow_v2/lib/python3.9/site-packages/neurokit2/signal/signal_phase.py:95: RuntimeWarning: invalid value encountered in remainder\n",
      "  prophase = np.mod(np.angle(scipy.signal.hilbert(signal)), pi2)\n",
      "/opt/homebrew/Caskroom/miniforge/base/envs/tensorflow_v2/lib/python3.9/site-packages/neurokit2/signal/signal_phase.py:95: RuntimeWarning: invalid value encountered in remainder\n",
      "  prophase = np.mod(np.angle(scipy.signal.hilbert(signal)), pi2)\n",
      "/opt/homebrew/Caskroom/miniforge/base/envs/tensorflow_v2/lib/python3.9/site-packages/neurokit2/signal/signal_phase.py:95: RuntimeWarning: invalid value encountered in remainder\n",
      "  prophase = np.mod(np.angle(scipy.signal.hilbert(signal)), pi2)\n",
      "/opt/homebrew/Caskroom/miniforge/base/envs/tensorflow_v2/lib/python3.9/site-packages/neurokit2/signal/signal_phase.py:95: RuntimeWarning: invalid value encountered in remainder\n",
      "  prophase = np.mod(np.angle(scipy.signal.hilbert(signal)), pi2)\n",
      "/opt/homebrew/Caskroom/miniforge/base/envs/tensorflow_v2/lib/python3.9/site-packages/neurokit2/signal/signal_phase.py:95: RuntimeWarning: invalid value encountered in remainder\n",
      "  prophase = np.mod(np.angle(scipy.signal.hilbert(signal)), pi2)\n",
      "/opt/homebrew/Caskroom/miniforge/base/envs/tensorflow_v2/lib/python3.9/site-packages/neurokit2/signal/signal_phase.py:95: RuntimeWarning: invalid value encountered in remainder\n",
      "  prophase = np.mod(np.angle(scipy.signal.hilbert(signal)), pi2)\n",
      "/opt/homebrew/Caskroom/miniforge/base/envs/tensorflow_v2/lib/python3.9/site-packages/neurokit2/signal/signal_phase.py:95: RuntimeWarning: invalid value encountered in remainder\n",
      "  prophase = np.mod(np.angle(scipy.signal.hilbert(signal)), pi2)\n",
      "/opt/homebrew/Caskroom/miniforge/base/envs/tensorflow_v2/lib/python3.9/site-packages/neurokit2/signal/signal_phase.py:95: RuntimeWarning: invalid value encountered in remainder\n",
      "  prophase = np.mod(np.angle(scipy.signal.hilbert(signal)), pi2)\n",
      "/opt/homebrew/Caskroom/miniforge/base/envs/tensorflow_v2/lib/python3.9/site-packages/neurokit2/signal/signal_phase.py:95: RuntimeWarning: invalid value encountered in remainder\n",
      "  prophase = np.mod(np.angle(scipy.signal.hilbert(signal)), pi2)\n",
      "/opt/homebrew/Caskroom/miniforge/base/envs/tensorflow_v2/lib/python3.9/site-packages/neurokit2/signal/signal_phase.py:95: RuntimeWarning: invalid value encountered in remainder\n",
      "  prophase = np.mod(np.angle(scipy.signal.hilbert(signal)), pi2)\n",
      "/opt/homebrew/Caskroom/miniforge/base/envs/tensorflow_v2/lib/python3.9/site-packages/neurokit2/signal/signal_phase.py:95: RuntimeWarning: invalid value encountered in remainder\n",
      "  prophase = np.mod(np.angle(scipy.signal.hilbert(signal)), pi2)\n",
      "/opt/homebrew/Caskroom/miniforge/base/envs/tensorflow_v2/lib/python3.9/site-packages/neurokit2/signal/signal_phase.py:95: RuntimeWarning: invalid value encountered in remainder\n",
      "  prophase = np.mod(np.angle(scipy.signal.hilbert(signal)), pi2)\n",
      "/opt/homebrew/Caskroom/miniforge/base/envs/tensorflow_v2/lib/python3.9/site-packages/neurokit2/signal/signal_phase.py:95: RuntimeWarning: invalid value encountered in remainder\n",
      "  prophase = np.mod(np.angle(scipy.signal.hilbert(signal)), pi2)\n",
      "/opt/homebrew/Caskroom/miniforge/base/envs/tensorflow_v2/lib/python3.9/site-packages/neurokit2/signal/signal_phase.py:95: RuntimeWarning: invalid value encountered in remainder\n",
      "  prophase = np.mod(np.angle(scipy.signal.hilbert(signal)), pi2)\n",
      "/opt/homebrew/Caskroom/miniforge/base/envs/tensorflow_v2/lib/python3.9/site-packages/neurokit2/signal/signal_phase.py:95: RuntimeWarning: invalid value encountered in remainder\n",
      "  prophase = np.mod(np.angle(scipy.signal.hilbert(signal)), pi2)\n",
      "/opt/homebrew/Caskroom/miniforge/base/envs/tensorflow_v2/lib/python3.9/site-packages/neurokit2/signal/signal_phase.py:95: RuntimeWarning: invalid value encountered in remainder\n",
      "  prophase = np.mod(np.angle(scipy.signal.hilbert(signal)), pi2)\n",
      "/opt/homebrew/Caskroom/miniforge/base/envs/tensorflow_v2/lib/python3.9/site-packages/neurokit2/signal/signal_phase.py:95: RuntimeWarning: invalid value encountered in remainder\n",
      "  prophase = np.mod(np.angle(scipy.signal.hilbert(signal)), pi2)\n",
      "/opt/homebrew/Caskroom/miniforge/base/envs/tensorflow_v2/lib/python3.9/site-packages/neurokit2/signal/signal_phase.py:95: RuntimeWarning: invalid value encountered in remainder\n",
      "  prophase = np.mod(np.angle(scipy.signal.hilbert(signal)), pi2)\n",
      "/opt/homebrew/Caskroom/miniforge/base/envs/tensorflow_v2/lib/python3.9/site-packages/neurokit2/signal/signal_phase.py:95: RuntimeWarning: invalid value encountered in remainder\n",
      "  prophase = np.mod(np.angle(scipy.signal.hilbert(signal)), pi2)\n",
      "/opt/homebrew/Caskroom/miniforge/base/envs/tensorflow_v2/lib/python3.9/site-packages/neurokit2/signal/signal_phase.py:95: RuntimeWarning: invalid value encountered in remainder\n",
      "  prophase = np.mod(np.angle(scipy.signal.hilbert(signal)), pi2)\n",
      "/opt/homebrew/Caskroom/miniforge/base/envs/tensorflow_v2/lib/python3.9/site-packages/neurokit2/signal/signal_phase.py:95: RuntimeWarning: invalid value encountered in remainder\n",
      "  prophase = np.mod(np.angle(scipy.signal.hilbert(signal)), pi2)\n",
      "/opt/homebrew/Caskroom/miniforge/base/envs/tensorflow_v2/lib/python3.9/site-packages/neurokit2/signal/signal_phase.py:95: RuntimeWarning: invalid value encountered in remainder\n",
      "  prophase = np.mod(np.angle(scipy.signal.hilbert(signal)), pi2)\n",
      "/opt/homebrew/Caskroom/miniforge/base/envs/tensorflow_v2/lib/python3.9/site-packages/neurokit2/signal/signal_phase.py:95: RuntimeWarning: invalid value encountered in remainder\n",
      "  prophase = np.mod(np.angle(scipy.signal.hilbert(signal)), pi2)\n",
      "/opt/homebrew/Caskroom/miniforge/base/envs/tensorflow_v2/lib/python3.9/site-packages/neurokit2/signal/signal_phase.py:95: RuntimeWarning: invalid value encountered in remainder\n",
      "  prophase = np.mod(np.angle(scipy.signal.hilbert(signal)), pi2)\n",
      "/opt/homebrew/Caskroom/miniforge/base/envs/tensorflow_v2/lib/python3.9/site-packages/neurokit2/signal/signal_phase.py:95: RuntimeWarning: invalid value encountered in remainder\n",
      "  prophase = np.mod(np.angle(scipy.signal.hilbert(signal)), pi2)\n",
      "/opt/homebrew/Caskroom/miniforge/base/envs/tensorflow_v2/lib/python3.9/site-packages/neurokit2/signal/signal_phase.py:95: RuntimeWarning: invalid value encountered in remainder\n",
      "  prophase = np.mod(np.angle(scipy.signal.hilbert(signal)), pi2)\n",
      "/opt/homebrew/Caskroom/miniforge/base/envs/tensorflow_v2/lib/python3.9/site-packages/neurokit2/signal/signal_phase.py:95: RuntimeWarning: invalid value encountered in remainder\n",
      "  prophase = np.mod(np.angle(scipy.signal.hilbert(signal)), pi2)\n",
      "/opt/homebrew/Caskroom/miniforge/base/envs/tensorflow_v2/lib/python3.9/site-packages/neurokit2/signal/signal_phase.py:95: RuntimeWarning: invalid value encountered in remainder\n",
      "  prophase = np.mod(np.angle(scipy.signal.hilbert(signal)), pi2)\n",
      "/opt/homebrew/Caskroom/miniforge/base/envs/tensorflow_v2/lib/python3.9/site-packages/neurokit2/signal/signal_phase.py:95: RuntimeWarning: invalid value encountered in remainder\n",
      "  prophase = np.mod(np.angle(scipy.signal.hilbert(signal)), pi2)\n",
      "/opt/homebrew/Caskroom/miniforge/base/envs/tensorflow_v2/lib/python3.9/site-packages/neurokit2/signal/signal_phase.py:95: RuntimeWarning: invalid value encountered in remainder\n",
      "  prophase = np.mod(np.angle(scipy.signal.hilbert(signal)), pi2)\n",
      "/opt/homebrew/Caskroom/miniforge/base/envs/tensorflow_v2/lib/python3.9/site-packages/neurokit2/signal/signal_phase.py:95: RuntimeWarning: invalid value encountered in remainder\n",
      "  prophase = np.mod(np.angle(scipy.signal.hilbert(signal)), pi2)\n",
      "/opt/homebrew/Caskroom/miniforge/base/envs/tensorflow_v2/lib/python3.9/site-packages/neurokit2/signal/signal_phase.py:95: RuntimeWarning: invalid value encountered in remainder\n",
      "  prophase = np.mod(np.angle(scipy.signal.hilbert(signal)), pi2)\n",
      "/opt/homebrew/Caskroom/miniforge/base/envs/tensorflow_v2/lib/python3.9/site-packages/neurokit2/signal/signal_phase.py:95: RuntimeWarning: invalid value encountered in remainder\n",
      "  prophase = np.mod(np.angle(scipy.signal.hilbert(signal)), pi2)\n",
      "/opt/homebrew/Caskroom/miniforge/base/envs/tensorflow_v2/lib/python3.9/site-packages/neurokit2/signal/signal_phase.py:95: RuntimeWarning: invalid value encountered in remainder\n",
      "  prophase = np.mod(np.angle(scipy.signal.hilbert(signal)), pi2)\n",
      "/opt/homebrew/Caskroom/miniforge/base/envs/tensorflow_v2/lib/python3.9/site-packages/neurokit2/signal/signal_phase.py:95: RuntimeWarning: invalid value encountered in remainder\n",
      "  prophase = np.mod(np.angle(scipy.signal.hilbert(signal)), pi2)\n",
      "/opt/homebrew/Caskroom/miniforge/base/envs/tensorflow_v2/lib/python3.9/site-packages/neurokit2/signal/signal_phase.py:95: RuntimeWarning: invalid value encountered in remainder\n",
      "  prophase = np.mod(np.angle(scipy.signal.hilbert(signal)), pi2)\n",
      "/opt/homebrew/Caskroom/miniforge/base/envs/tensorflow_v2/lib/python3.9/site-packages/neurokit2/signal/signal_phase.py:95: RuntimeWarning: invalid value encountered in remainder\n",
      "  prophase = np.mod(np.angle(scipy.signal.hilbert(signal)), pi2)\n",
      "/opt/homebrew/Caskroom/miniforge/base/envs/tensorflow_v2/lib/python3.9/site-packages/neurokit2/signal/signal_phase.py:95: RuntimeWarning: invalid value encountered in remainder\n",
      "  prophase = np.mod(np.angle(scipy.signal.hilbert(signal)), pi2)\n",
      "/opt/homebrew/Caskroom/miniforge/base/envs/tensorflow_v2/lib/python3.9/site-packages/neurokit2/signal/signal_phase.py:95: RuntimeWarning: invalid value encountered in remainder\n",
      "  prophase = np.mod(np.angle(scipy.signal.hilbert(signal)), pi2)\n",
      "/opt/homebrew/Caskroom/miniforge/base/envs/tensorflow_v2/lib/python3.9/site-packages/neurokit2/signal/signal_phase.py:95: RuntimeWarning: invalid value encountered in remainder\n",
      "  prophase = np.mod(np.angle(scipy.signal.hilbert(signal)), pi2)\n",
      "/opt/homebrew/Caskroom/miniforge/base/envs/tensorflow_v2/lib/python3.9/site-packages/neurokit2/signal/signal_phase.py:95: RuntimeWarning: invalid value encountered in remainder\n",
      "  prophase = np.mod(np.angle(scipy.signal.hilbert(signal)), pi2)\n",
      "/opt/homebrew/Caskroom/miniforge/base/envs/tensorflow_v2/lib/python3.9/site-packages/neurokit2/signal/signal_phase.py:95: RuntimeWarning: invalid value encountered in remainder\n",
      "  prophase = np.mod(np.angle(scipy.signal.hilbert(signal)), pi2)\n",
      "/opt/homebrew/Caskroom/miniforge/base/envs/tensorflow_v2/lib/python3.9/site-packages/neurokit2/signal/signal_phase.py:95: RuntimeWarning: invalid value encountered in remainder\n",
      "  prophase = np.mod(np.angle(scipy.signal.hilbert(signal)), pi2)\n",
      "/opt/homebrew/Caskroom/miniforge/base/envs/tensorflow_v2/lib/python3.9/site-packages/neurokit2/signal/signal_phase.py:95: RuntimeWarning: invalid value encountered in remainder\n",
      "  prophase = np.mod(np.angle(scipy.signal.hilbert(signal)), pi2)\n",
      "/opt/homebrew/Caskroom/miniforge/base/envs/tensorflow_v2/lib/python3.9/site-packages/neurokit2/signal/signal_phase.py:95: RuntimeWarning: invalid value encountered in remainder\n",
      "  prophase = np.mod(np.angle(scipy.signal.hilbert(signal)), pi2)\n",
      "/opt/homebrew/Caskroom/miniforge/base/envs/tensorflow_v2/lib/python3.9/site-packages/neurokit2/signal/signal_phase.py:95: RuntimeWarning: invalid value encountered in remainder\n",
      "  prophase = np.mod(np.angle(scipy.signal.hilbert(signal)), pi2)\n",
      "/opt/homebrew/Caskroom/miniforge/base/envs/tensorflow_v2/lib/python3.9/site-packages/neurokit2/signal/signal_phase.py:95: RuntimeWarning: invalid value encountered in remainder\n",
      "  prophase = np.mod(np.angle(scipy.signal.hilbert(signal)), pi2)\n",
      "/opt/homebrew/Caskroom/miniforge/base/envs/tensorflow_v2/lib/python3.9/site-packages/neurokit2/signal/signal_phase.py:95: RuntimeWarning: invalid value encountered in remainder\n",
      "  prophase = np.mod(np.angle(scipy.signal.hilbert(signal)), pi2)\n",
      "/opt/homebrew/Caskroom/miniforge/base/envs/tensorflow_v2/lib/python3.9/site-packages/neurokit2/signal/signal_phase.py:95: RuntimeWarning: invalid value encountered in remainder\n",
      "  prophase = np.mod(np.angle(scipy.signal.hilbert(signal)), pi2)\n",
      "/opt/homebrew/Caskroom/miniforge/base/envs/tensorflow_v2/lib/python3.9/site-packages/neurokit2/signal/signal_phase.py:95: RuntimeWarning: invalid value encountered in remainder\n",
      "  prophase = np.mod(np.angle(scipy.signal.hilbert(signal)), pi2)\n",
      "/opt/homebrew/Caskroom/miniforge/base/envs/tensorflow_v2/lib/python3.9/site-packages/neurokit2/signal/signal_phase.py:95: RuntimeWarning: invalid value encountered in remainder\n",
      "  prophase = np.mod(np.angle(scipy.signal.hilbert(signal)), pi2)\n",
      "/opt/homebrew/Caskroom/miniforge/base/envs/tensorflow_v2/lib/python3.9/site-packages/neurokit2/signal/signal_phase.py:95: RuntimeWarning: invalid value encountered in remainder\n",
      "  prophase = np.mod(np.angle(scipy.signal.hilbert(signal)), pi2)\n",
      "/opt/homebrew/Caskroom/miniforge/base/envs/tensorflow_v2/lib/python3.9/site-packages/neurokit2/signal/signal_phase.py:95: RuntimeWarning: invalid value encountered in remainder\n",
      "  prophase = np.mod(np.angle(scipy.signal.hilbert(signal)), pi2)\n",
      "/opt/homebrew/Caskroom/miniforge/base/envs/tensorflow_v2/lib/python3.9/site-packages/neurokit2/signal/signal_phase.py:95: RuntimeWarning: invalid value encountered in remainder\n",
      "  prophase = np.mod(np.angle(scipy.signal.hilbert(signal)), pi2)\n",
      "/opt/homebrew/Caskroom/miniforge/base/envs/tensorflow_v2/lib/python3.9/site-packages/neurokit2/signal/signal_phase.py:95: RuntimeWarning: invalid value encountered in remainder\n",
      "  prophase = np.mod(np.angle(scipy.signal.hilbert(signal)), pi2)\n",
      "/opt/homebrew/Caskroom/miniforge/base/envs/tensorflow_v2/lib/python3.9/site-packages/neurokit2/signal/signal_phase.py:95: RuntimeWarning: invalid value encountered in remainder\n",
      "  prophase = np.mod(np.angle(scipy.signal.hilbert(signal)), pi2)\n",
      "/opt/homebrew/Caskroom/miniforge/base/envs/tensorflow_v2/lib/python3.9/site-packages/neurokit2/signal/signal_phase.py:95: RuntimeWarning: invalid value encountered in remainder\n",
      "  prophase = np.mod(np.angle(scipy.signal.hilbert(signal)), pi2)\n",
      "/opt/homebrew/Caskroom/miniforge/base/envs/tensorflow_v2/lib/python3.9/site-packages/neurokit2/signal/signal_phase.py:95: RuntimeWarning: invalid value encountered in remainder\n",
      "  prophase = np.mod(np.angle(scipy.signal.hilbert(signal)), pi2)\n",
      "/opt/homebrew/Caskroom/miniforge/base/envs/tensorflow_v2/lib/python3.9/site-packages/neurokit2/signal/signal_phase.py:95: RuntimeWarning: invalid value encountered in remainder\n",
      "  prophase = np.mod(np.angle(scipy.signal.hilbert(signal)), pi2)\n",
      "/opt/homebrew/Caskroom/miniforge/base/envs/tensorflow_v2/lib/python3.9/site-packages/neurokit2/signal/signal_phase.py:95: RuntimeWarning: invalid value encountered in remainder\n",
      "  prophase = np.mod(np.angle(scipy.signal.hilbert(signal)), pi2)\n",
      "/opt/homebrew/Caskroom/miniforge/base/envs/tensorflow_v2/lib/python3.9/site-packages/neurokit2/signal/signal_phase.py:95: RuntimeWarning: invalid value encountered in remainder\n",
      "  prophase = np.mod(np.angle(scipy.signal.hilbert(signal)), pi2)\n",
      "/opt/homebrew/Caskroom/miniforge/base/envs/tensorflow_v2/lib/python3.9/site-packages/neurokit2/signal/signal_phase.py:95: RuntimeWarning: invalid value encountered in remainder\n",
      "  prophase = np.mod(np.angle(scipy.signal.hilbert(signal)), pi2)\n",
      "/opt/homebrew/Caskroom/miniforge/base/envs/tensorflow_v2/lib/python3.9/site-packages/neurokit2/signal/signal_phase.py:95: RuntimeWarning: invalid value encountered in remainder\n",
      "  prophase = np.mod(np.angle(scipy.signal.hilbert(signal)), pi2)\n",
      "/opt/homebrew/Caskroom/miniforge/base/envs/tensorflow_v2/lib/python3.9/site-packages/neurokit2/signal/signal_phase.py:95: RuntimeWarning: invalid value encountered in remainder\n",
      "  prophase = np.mod(np.angle(scipy.signal.hilbert(signal)), pi2)\n",
      "/opt/homebrew/Caskroom/miniforge/base/envs/tensorflow_v2/lib/python3.9/site-packages/neurokit2/signal/signal_phase.py:95: RuntimeWarning: invalid value encountered in remainder\n",
      "  prophase = np.mod(np.angle(scipy.signal.hilbert(signal)), pi2)\n",
      "/opt/homebrew/Caskroom/miniforge/base/envs/tensorflow_v2/lib/python3.9/site-packages/neurokit2/signal/signal_phase.py:95: RuntimeWarning: invalid value encountered in remainder\n",
      "  prophase = np.mod(np.angle(scipy.signal.hilbert(signal)), pi2)\n",
      "/opt/homebrew/Caskroom/miniforge/base/envs/tensorflow_v2/lib/python3.9/site-packages/neurokit2/signal/signal_phase.py:95: RuntimeWarning: invalid value encountered in remainder\n",
      "  prophase = np.mod(np.angle(scipy.signal.hilbert(signal)), pi2)\n",
      "/opt/homebrew/Caskroom/miniforge/base/envs/tensorflow_v2/lib/python3.9/site-packages/neurokit2/signal/signal_phase.py:95: RuntimeWarning: invalid value encountered in remainder\n",
      "  prophase = np.mod(np.angle(scipy.signal.hilbert(signal)), pi2)\n"
     ]
    },
    {
     "name": "stdout",
     "output_type": "stream",
     "text": [
      "总共提取了 3301 条小段数据。\n",
      "     HRV_SDNN Subject  Emotion_Label  Segment_Start_Time_sec\n",
      "0   74.714878      S2              1                       0\n",
      "1   55.837223      S2              1                      10\n",
      "2  100.542745      S2              1                      20\n",
      "3  100.516523      S2              1                      30\n",
      "4   94.079862      S2              1                      40\n"
     ]
    }
   ],
   "source": [
    "features_list = []\n",
    "\n",
    "subject_list = ['S2', 'S3', 'S4', 'S5', 'S6', 'S7', 'S8', 'S9', 'S10', 'S11', 'S13', 'S14', 'S15', 'S16', 'S17']\n",
    "\n",
    "for subject in subject_list:\n",
    "    try:\n",
    "        with open(os.path.join(data_path, subject, f'{subject}.pkl'), 'rb') as file:\n",
    "            data = pickle.load(file, encoding='latin1')\n",
    "\n",
    "        ecg_signal = data['signal']['chest']['ECG'].squeeze()\n",
    "        labels = data['label']\n",
    "\n",
    "        for emotion_label in [1, 2, 3]:  # 只处理静息、压力、娱乐三种情绪\n",
    "            idx = (labels == emotion_label)\n",
    "            ecg_segment = ecg_signal[idx]\n",
    "\n",
    "            # 分小段处理\n",
    "            total_segments = len(ecg_segment) // segment_length\n",
    "\n",
    "            for i in range(total_segments):\n",
    "                segment = ecg_segment[i * segment_length : (i + 1) * segment_length]\n",
    "\n",
    "                # 如果小段太短，跳过\n",
    "                if len(segment) < segment_length * 0.8:\n",
    "                    continue\n",
    "\n",
    "                # 提取小段的HRV特征\n",
    "                signals, info = nk.ecg_process(segment, sampling_rate=sampling_rate)\n",
    "                rpeaks_df = pd.DataFrame({\"ECG_R_Peaks\": info[\"ECG_R_Peaks\"]})\n",
    "                hrv_features = nk.hrv_time(rpeaks_df, sampling_rate=sampling_rate)\n",
    "\n",
    "                row = {\n",
    "                    'HRV_SDNN': hrv_features['HRV_SDNN'].values[0],\n",
    "                    'Subject': subject,\n",
    "                    'Emotion_Label': emotion_label,\n",
    "                    'Segment_Start_Time_sec': i * segment_duration_sec \n",
    "                }\n",
    "                features_list.append(row)\n",
    "\n",
    "    except Exception as e:\n",
    "        print(f\"跳过{subject}, 出错原因: {e}\")\n",
    "        continue\n",
    "\n",
    "dataset = pd.DataFrame(features_list)\n",
    "\n",
    "print(f\"总共提取了 {len(dataset)} 条小段数据。\")\n",
    "print(dataset.head())\n"
   ]
  },
  {
   "cell_type": "code",
   "execution_count": 39,
   "metadata": {},
   "outputs": [],
   "source": [
    "dataset['HRV_SDNN_lag1'] = dataset['HRV_SDNN'].shift(1)\n",
    "dataset['HRV_SDNN_lag2'] = dataset['HRV_SDNN'].shift(2)\n",
    "cols = ['HRV_SDNN', 'HRV_SDNN_lag1', 'HRV_SDNN_lag2']"
   ]
  },
  {
   "cell_type": "code",
   "execution_count": 62,
   "metadata": {},
   "outputs": [
    {
     "name": "stdout",
     "output_type": "stream",
     "text": [
      "模型预测准确率: 0.5351681957186545\n",
      "              precision    recall  f1-score   support\n",
      "\n",
      "    Baseline       0.59      0.81      0.68       182\n",
      "      Stress       0.40      0.31      0.35        85\n",
      "   Amusement       0.18      0.03      0.06        60\n",
      "\n",
      "    accuracy                           0.54       327\n",
      "   macro avg       0.39      0.38      0.36       327\n",
      "weighted avg       0.46      0.54      0.48       327\n",
      "\n"
     ]
    }
   ],
   "source": [
    "from sklearn.ensemble import RandomForestClassifier\n",
    "from sklearn.model_selection import train_test_split\n",
    "from sklearn.metrics import accuracy_score\n",
    "from sklearn.preprocessing import StandardScaler\n",
    "from sklearn.impute import SimpleImputer\n",
    "\n",
    "# 1. 特征和标签\n",
    "X = dataset[cols]  # 🚀 用3个特征\n",
    "y = dataset['Emotion_Label'] - 1\n",
    "\n",
    "# 均值填充\n",
    "imputer = SimpleImputer(strategy='mean')\n",
    "X_imputed = imputer.fit_transform(X)\n",
    "\n",
    "# 2. 特征标准化\n",
    "scaler = StandardScaler()\n",
    "X_scaled = scaler.fit_transform(X_imputed)\n",
    "\n",
    "# 3. 切分训练集和测试集\n",
    "X_train, X_test, y_train, y_test = train_test_split(X_scaled, y, test_size=0.3, random_state=42)\n",
    "\n",
    "# 4. 训练模型\n",
    "model = RandomForestClassifier()\n",
    "model.fit(X_train, y_train)\n",
    "\n",
    "# 5. 预测并评估\n",
    "y_pred = model.predict(X_test)\n",
    "print(\"模型预测准确率:\", accuracy_score(y_test, y_pred))\n",
    "print(classification_report(y_test, y_pred, target_names=['Baseline', 'Stress', 'Amusement']))"
   ]
  },
  {
   "cell_type": "code",
   "execution_count": 63,
   "metadata": {},
   "outputs": [
    {
     "name": "stdout",
     "output_type": "stream",
     "text": [
      "XGBoost模型预测准确率: 0.5259938837920489\n",
      "              precision    recall  f1-score   support\n",
      "\n",
      "    Baseline       0.57      0.81      0.67       182\n",
      "      Stress       0.38      0.25      0.30        85\n",
      "   Amusement       0.29      0.07      0.11        60\n",
      "\n",
      "    accuracy                           0.53       327\n",
      "   macro avg       0.41      0.37      0.36       327\n",
      "weighted avg       0.47      0.53      0.47       327\n",
      "\n"
     ]
    }
   ],
   "source": [
    "import xgboost as xgb\n",
    "\n",
    "model = xgb.XGBClassifier(\n",
    "    objective='multi:softmax',  # 多分类\n",
    "    num_class=3,\n",
    "    eval_metric='mlogloss',\n",
    "    max_depth=5,\n",
    "    learning_rate=0.1,\n",
    "    n_estimators=100,\n",
    "    use_label_encoder=False\n",
    ")\n",
    "\n",
    "model.fit(X_train, y_train)\n",
    "\n",
    "y_pred = model.predict(X_test)\n",
    "print(\"XGBoost模型预测准确率:\", accuracy_score(y_test, y_pred))\n",
    "print(classification_report(y_test, y_pred, target_names=['Baseline', 'Stress', 'Amusement']))\n"
   ]
  },
  {
   "cell_type": "markdown",
   "metadata": {},
   "source": [
    "TS model"
   ]
  },
  {
   "cell_type": "code",
   "execution_count": 114,
   "metadata": {},
   "outputs": [],
   "source": [
    "import numpy as np\n",
    "\n",
    "window_size = 5\n",
    "\n",
    "X = X.fillna(0)\n",
    "\n",
    "X_sequences = []\n",
    "y_sequences = []\n",
    "\n",
    "for i in range(len(X) - window_size):\n",
    "    if (dataset.loc[i, 'Subject'] == dataset.loc[i + window_size - 1, 'Subject']) and \\\n",
    "       (dataset.loc[i, 'Emotion_Label'] == dataset.loc[i + window_size - 1, 'Emotion_Label']):\n",
    "        \n",
    "        X_seq = X[i:i+window_size]\n",
    "        y_seq = y[i + window_size - 1]\n",
    "        X_sequences.append(X_seq)\n",
    "        y_sequences.append(y_seq)\n",
    "\n",
    "X_sequences = np.array(X_sequences)\n",
    "y_sequences = np.array(y_sequences)\n"
   ]
  },
  {
   "cell_type": "code",
   "execution_count": 115,
   "metadata": {},
   "outputs": [
    {
     "name": "stdout",
     "output_type": "stream",
     "text": [
      "训练集大小：(817, 5, 3), 测试集大小：(205, 5, 3)\n"
     ]
    }
   ],
   "source": [
    "X_train, X_test, y_train, y_test = train_test_split(\n",
    "    X_sequences, y_sequences, test_size=0.2, random_state=42, stratify=y_sequences\n",
    ")\n",
    "print(f\"训练集大小：{X_train.shape}, 测试集大小：{X_test.shape}\")"
   ]
  },
  {
   "cell_type": "code",
   "execution_count": null,
   "metadata": {},
   "outputs": [
    {
     "name": "stdout",
     "output_type": "stream",
     "text": [
      "Epoch 1/50\n"
     ]
    },
    {
     "name": "stderr",
     "output_type": "stream",
     "text": [
      "2025-04-28 00:25:26.282135: I tensorflow/core/grappler/optimizers/custom_graph_optimizer_registry.cc:113] Plugin optimizer for device_type GPU is enabled.\n",
      "2025-04-28 00:25:26.430827: I tensorflow/core/grappler/optimizers/custom_graph_optimizer_registry.cc:113] Plugin optimizer for device_type GPU is enabled.\n",
      "2025-04-28 00:25:26.552092: I tensorflow/core/grappler/optimizers/custom_graph_optimizer_registry.cc:113] Plugin optimizer for device_type GPU is enabled.\n"
     ]
    },
    {
     "name": "stdout",
     "output_type": "stream",
     "text": [
      "21/21 [==============================] - ETA: 0s - loss: 1.0605 - accuracy: 0.4747"
     ]
    },
    {
     "name": "stderr",
     "output_type": "stream",
     "text": [
      "2025-04-28 00:25:27.240236: I tensorflow/core/grappler/optimizers/custom_graph_optimizer_registry.cc:113] Plugin optimizer for device_type GPU is enabled.\n",
      "2025-04-28 00:25:27.305890: I tensorflow/core/grappler/optimizers/custom_graph_optimizer_registry.cc:113] Plugin optimizer for device_type GPU is enabled.\n"
     ]
    },
    {
     "name": "stdout",
     "output_type": "stream",
     "text": [
      "21/21 [==============================] - 2s 36ms/step - loss: 1.0605 - accuracy: 0.4747 - val_loss: 1.0110 - val_accuracy: 0.5366\n",
      "Epoch 2/50\n",
      "21/21 [==============================] - 0s 13ms/step - loss: 0.9718 - accuracy: 0.5590 - val_loss: 0.9786 - val_accuracy: 0.5793\n",
      "Epoch 3/50\n",
      "21/21 [==============================] - 0s 11ms/step - loss: 0.9429 - accuracy: 0.5850 - val_loss: 0.9509 - val_accuracy: 0.6037\n",
      "Epoch 4/50\n",
      "21/21 [==============================] - 0s 11ms/step - loss: 0.9285 - accuracy: 0.5835 - val_loss: 0.9446 - val_accuracy: 0.5976\n",
      "Epoch 5/50\n",
      "21/21 [==============================] - 0s 11ms/step - loss: 0.9147 - accuracy: 0.5850 - val_loss: 0.9454 - val_accuracy: 0.5976\n",
      "Epoch 6/50\n",
      "21/21 [==============================] - 0s 11ms/step - loss: 0.9093 - accuracy: 0.5865 - val_loss: 0.9423 - val_accuracy: 0.5976\n",
      "Epoch 7/50\n",
      "21/21 [==============================] - 0s 10ms/step - loss: 0.9019 - accuracy: 0.5926 - val_loss: 0.9417 - val_accuracy: 0.5915\n",
      "Epoch 8/50\n",
      "21/21 [==============================] - 0s 11ms/step - loss: 0.9153 - accuracy: 0.5896 - val_loss: 0.9397 - val_accuracy: 0.6037\n",
      "Epoch 9/50\n",
      "21/21 [==============================] - 0s 11ms/step - loss: 0.8933 - accuracy: 0.6003 - val_loss: 0.9395 - val_accuracy: 0.5915\n",
      "Epoch 10/50\n",
      "21/21 [==============================] - 0s 11ms/step - loss: 0.8926 - accuracy: 0.5972 - val_loss: 0.9506 - val_accuracy: 0.5854\n",
      "Epoch 11/50\n",
      "21/21 [==============================] - 0s 10ms/step - loss: 0.8822 - accuracy: 0.6064 - val_loss: 0.9356 - val_accuracy: 0.5915\n",
      "Epoch 12/50\n",
      "21/21 [==============================] - 0s 10ms/step - loss: 0.8738 - accuracy: 0.6049 - val_loss: 0.9402 - val_accuracy: 0.5976\n",
      "Epoch 13/50\n",
      "21/21 [==============================] - 0s 10ms/step - loss: 0.8714 - accuracy: 0.6095 - val_loss: 0.9370 - val_accuracy: 0.6037\n",
      "Epoch 14/50\n",
      "21/21 [==============================] - 0s 12ms/step - loss: 0.8642 - accuracy: 0.6217 - val_loss: 0.9437 - val_accuracy: 0.5915\n",
      "Epoch 15/50\n",
      "21/21 [==============================] - 0s 10ms/step - loss: 0.8680 - accuracy: 0.6141 - val_loss: 0.9361 - val_accuracy: 0.6098\n",
      "Epoch 16/50\n",
      "21/21 [==============================] - 0s 10ms/step - loss: 0.8578 - accuracy: 0.6217 - val_loss: 0.9283 - val_accuracy: 0.6098\n",
      "Epoch 17/50\n",
      "21/21 [==============================] - 0s 10ms/step - loss: 0.8516 - accuracy: 0.6141 - val_loss: 0.9353 - val_accuracy: 0.6098\n",
      "Epoch 18/50\n",
      "21/21 [==============================] - 0s 11ms/step - loss: 0.8438 - accuracy: 0.6233 - val_loss: 0.9276 - val_accuracy: 0.6037\n",
      "Epoch 19/50\n",
      "21/21 [==============================] - 0s 10ms/step - loss: 0.8461 - accuracy: 0.6248 - val_loss: 0.9346 - val_accuracy: 0.6037\n",
      "Epoch 20/50\n",
      "21/21 [==============================] - 0s 10ms/step - loss: 0.8423 - accuracy: 0.6248 - val_loss: 0.9523 - val_accuracy: 0.5915\n",
      "Epoch 21/50\n",
      "21/21 [==============================] - 0s 10ms/step - loss: 0.8403 - accuracy: 0.6248 - val_loss: 0.9341 - val_accuracy: 0.6098\n",
      "Epoch 22/50\n",
      "21/21 [==============================] - 0s 10ms/step - loss: 0.8318 - accuracy: 0.6325 - val_loss: 0.9388 - val_accuracy: 0.5915\n",
      "Epoch 23/50\n",
      "21/21 [==============================] - 0s 11ms/step - loss: 0.8345 - accuracy: 0.6309 - val_loss: 0.9502 - val_accuracy: 0.6037\n"
     ]
    }
   ],
   "source": [
    "from tensorflow.keras.models import Sequential\n",
    "from tensorflow.keras.layers import LSTM, Dense\n",
    "from tensorflow.keras.callbacks import EarlyStopping\n",
    "\n",
    "model = Sequential()\n",
    "model.add(LSTM(64, input_shape=(window_size, 3)))\n",
    "model.add(Dense(3, activation='softmax'))\n",
    "\n",
    "model.compile(optimizer='adam', loss='sparse_categorical_crossentropy', metrics=['accuracy'])\n",
    "\n",
    "early_stopping = EarlyStopping(monitor='val_loss', patience=5, restore_best_weights=True)\n",
    "\n",
    "history = model.fit(\n",
    "    X_train, y_train,\n",
    "    validation_split=0.2,\n",
    "    epochs=50,\n",
    "    batch_size=32,\n",
    "    callbacks=[early_stopping],\n",
    "    verbose=1\n",
    ")"
   ]
  },
  {
   "cell_type": "code",
   "execution_count": 130,
   "metadata": {},
   "outputs": [
    {
     "name": "stdout",
     "output_type": "stream",
     "text": [
      "{0: 0.6175359032501889, 1: 1.1115646258503402, 2: 2.078880407124682}\n",
      "Epoch 1/50\n"
     ]
    },
    {
     "name": "stderr",
     "output_type": "stream",
     "text": [
      "2025-04-28 00:25:42.078914: I tensorflow/core/grappler/optimizers/custom_graph_optimizer_registry.cc:113] Plugin optimizer for device_type GPU is enabled.\n",
      "2025-04-28 00:25:42.231712: I tensorflow/core/grappler/optimizers/custom_graph_optimizer_registry.cc:113] Plugin optimizer for device_type GPU is enabled.\n"
     ]
    },
    {
     "name": "stdout",
     "output_type": "stream",
     "text": [
      " 1/21 [>.............................] - ETA: 14s - loss: 1.0306 - accuracy: 0.5625"
     ]
    },
    {
     "name": "stderr",
     "output_type": "stream",
     "text": [
      "2025-04-28 00:25:42.361052: I tensorflow/core/grappler/optimizers/custom_graph_optimizer_registry.cc:113] Plugin optimizer for device_type GPU is enabled.\n"
     ]
    },
    {
     "name": "stdout",
     "output_type": "stream",
     "text": [
      "21/21 [==============================] - 1s 19ms/step - loss: 0.9839 - accuracy: 0.4839 - val_loss: 0.9508 - val_accuracy: 0.5793\n",
      "Epoch 2/50\n",
      "21/21 [==============================] - 0s 10ms/step - loss: 0.9571 - accuracy: 0.5865 - val_loss: 0.9851 - val_accuracy: 0.5000\n",
      "Epoch 3/50\n",
      "21/21 [==============================] - 0s 11ms/step - loss: 0.9375 - accuracy: 0.5620 - val_loss: 0.9672 - val_accuracy: 0.5427\n",
      "Epoch 4/50\n",
      "21/21 [==============================] - 0s 10ms/step - loss: 0.9415 - accuracy: 0.5253 - val_loss: 0.9748 - val_accuracy: 0.5488\n",
      "Epoch 5/50\n",
      "21/21 [==============================] - 0s 10ms/step - loss: 0.9376 - accuracy: 0.5942 - val_loss: 1.0123 - val_accuracy: 0.4268\n",
      "Epoch 6/50\n",
      "21/21 [==============================] - 0s 10ms/step - loss: 0.9152 - accuracy: 0.5865 - val_loss: 0.9954 - val_accuracy: 0.5000\n"
     ]
    }
   ],
   "source": [
    "from sklearn.utils import class_weight\n",
    "\n",
    "class_weights = class_weight.compute_class_weight(\n",
    "    class_weight='balanced',\n",
    "    classes=np.unique(y_train),\n",
    "    y=y_train\n",
    ")\n",
    "class_weights = dict(enumerate(class_weights))\n",
    "print(class_weights)\n",
    "\n",
    "history = model.fit(\n",
    "    X_train, y_train,\n",
    "    validation_split=0.2,\n",
    "    epochs=50,\n",
    "    batch_size=32,\n",
    "    callbacks=[early_stopping],\n",
    "    class_weight=class_weights,\n",
    "    verbose=1\n",
    ")"
   ]
  },
  {
   "cell_type": "code",
   "execution_count": 131,
   "metadata": {},
   "outputs": [
    {
     "name": "stdout",
     "output_type": "stream",
     "text": [
      "LSTM模型预测准确率: 0.6585365853658537\n",
      "              precision    recall  f1-score   support\n",
      "\n",
      "    Baseline       0.67      0.89      0.76       111\n",
      "      Stress       0.76      0.52      0.62        61\n",
      "   Amusement       0.27      0.12      0.17        33\n",
      "\n",
      "    accuracy                           0.66       205\n",
      "   macro avg       0.57      0.51      0.52       205\n",
      "weighted avg       0.63      0.66      0.63       205\n",
      "\n"
     ]
    },
    {
     "name": "stderr",
     "output_type": "stream",
     "text": [
      "2025-04-28 00:25:44.184758: I tensorflow/core/grappler/optimizers/custom_graph_optimizer_registry.cc:113] Plugin optimizer for device_type GPU is enabled.\n",
      "2025-04-28 00:25:44.231153: I tensorflow/core/grappler/optimizers/custom_graph_optimizer_registry.cc:113] Plugin optimizer for device_type GPU is enabled.\n"
     ]
    },
    {
     "data": {
      "text/plain": [
       "array([[99,  6,  6],\n",
       "       [24, 32,  5],\n",
       "       [25,  4,  4]])"
      ]
     },
     "execution_count": 131,
     "metadata": {},
     "output_type": "execute_result"
    }
   ],
   "source": [
    "y_pred_prob = model.predict(X_test)\n",
    "y_pred = np.argmax(y_pred_prob, axis=1)\n",
    "\n",
    "cm = confusion_matrix(y_test, y_pred)\n",
    "\n",
    "print(\"LSTM模型预测准确率:\", accuracy_score(y_test, y_pred))\n",
    "print(classification_report(y_test, y_pred, target_names=['Baseline', 'Stress', 'Amusement']))\n",
    "cm"
   ]
  },
  {
   "cell_type": "code",
   "execution_count": 83,
   "metadata": {},
   "outputs": [
    {
     "data": {
      "text/plain": [
       "count    1087.000000\n",
       "mean       62.256580\n",
       "std        30.766753\n",
       "min         2.851807\n",
       "25%        40.816451\n",
       "50%        58.267642\n",
       "75%        77.565408\n",
       "max       215.585800\n",
       "Name: HRV_SDNN, dtype: float64"
      ]
     },
     "execution_count": 83,
     "metadata": {},
     "output_type": "execute_result"
    }
   ],
   "source": [
    "dataset.HRV_SDNN.describe()"
   ]
  },
  {
   "cell_type": "code",
   "execution_count": 84,
   "metadata": {},
   "outputs": [],
   "source": [
    "model.save('lstm_emotion_model.h5')"
   ]
  },
  {
   "cell_type": "code",
   "execution_count": null,
   "metadata": {},
   "outputs": [],
   "source": []
  }
 ],
 "metadata": {
  "kernelspec": {
   "display_name": "tensorflow_v2",
   "language": "python",
   "name": "python3"
  },
  "language_info": {
   "codemirror_mode": {
    "name": "ipython",
    "version": 3
   },
   "file_extension": ".py",
   "mimetype": "text/x-python",
   "name": "python",
   "nbconvert_exporter": "python",
   "pygments_lexer": "ipython3",
   "version": "3.9.12"
  }
 },
 "nbformat": 4,
 "nbformat_minor": 2
}
