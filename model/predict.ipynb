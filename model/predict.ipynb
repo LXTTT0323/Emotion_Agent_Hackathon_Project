{
 "cells": [
  {
   "cell_type": "code",
   "execution_count": null,
   "metadata": {},
   "outputs": [],
   "source": [
    "import pandas as pd\n",
    "import numpy as np\n",
    "\n",
    "df = pd.read_csv('HeartRateVariabilitySDNN.csv')\n",
    "\n",
    "df['startDate'] = pd.to_datetime(df['startDate'])\n",
    "df['endDate'] = pd.to_datetime(df['endDate'])\n",
    "df = df.sort_values('startDate').reset_index(drop=True)\n"
   ]
  },
  {
   "cell_type": "code",
   "execution_count": 8,
   "metadata": {},
   "outputs": [
    {
     "data": {
      "text/plain": [
       "count    2993.000000\n",
       "mean       28.527985\n",
       "std        18.015771\n",
       "min         4.115290\n",
       "25%        17.327400\n",
       "50%        24.115800\n",
       "75%        33.707500\n",
       "max       178.596000\n",
       "Name: value, dtype: float64"
      ]
     },
     "execution_count": 8,
     "metadata": {},
     "output_type": "execute_result"
    }
   ],
   "source": [
    "df.value.describe()"
   ]
  },
  {
   "cell_type": "code",
   "execution_count": 24,
   "metadata": {},
   "outputs": [],
   "source": [
    "# segment_duration_sec = 10\n",
    "# start_time = df['startDate'].min()\n",
    "# end_time = df['endDate'].max()\n",
    "\n",
    "# current_start = start_time\n",
    "# current_end = current_start + pd.Timedelta(seconds=segment_duration_sec)\n",
    "\n",
    "# features_list = []\n",
    "\n",
    "# while current_end <= end_time:\n",
    "#     mask = (df['startDate'] < current_end) & (df['endDate'] > current_start)\n",
    "#     segment = df.loc[mask]\n",
    "\n",
    "#     if len(segment) >= 2:\n",
    "#         values = segment['value'].values\n",
    "\n",
    "#         hrv_sdnn = values.mean()\n",
    "\n",
    "#         features_list.append({\n",
    "#             'HRV_SDNN': hrv_sdnn,\n",
    "#             'Segment_Start': current_start\n",
    "#         })\n",
    "#     current_start = current_end\n",
    "#     current_end = current_start + pd.Timedelta(seconds=segment_duration_sec)\n",
    "\n",
    "# feature_df = pd.DataFrame(features_list)\n",
    "\n",
    "# print(feature_df.head())\n"
   ]
  },
  {
   "cell_type": "code",
   "execution_count": 25,
   "metadata": {},
   "outputs": [],
   "source": [
    "df['HRV_SDNN'] = df['value']\n",
    "df['HRV_SDNN_lag1'] = df['HRV_SDNN'].shift(1)\n",
    "df['HRV_SDNN_lag2'] = df['HRV_SDNN'].shift(2)\n",
    "cols = ['HRV_SDNN', 'HRV_SDNN_lag1', 'HRV_SDNN_lag2']"
   ]
  },
  {
   "cell_type": "code",
   "execution_count": null,
   "metadata": {},
   "outputs": [],
   "source": [
    "window_size = 5\n",
    "X = df[cols]\n",
    "X = X.fillna(0)\n",
    "X_sequences = []\n",
    "for i in range(len(X) - window_size):        \n",
    "    X_seq = X[i:i+window_size]\n",
    "    X_sequences.append(X_seq)\n",
    "X_sequences = np.array(X_sequences)\n"
   ]
  },
  {
   "cell_type": "code",
   "execution_count": null,
   "metadata": {},
   "outputs": [
    {
     "name": "stdout",
     "output_type": "stream",
     "text": [
      "Metal device set to: Apple M1\n",
      "\n",
      "systemMemory: 16.00 GB\n",
      "maxCacheSize: 5.33 GB\n",
      "\n"
     ]
    },
    {
     "name": "stderr",
     "output_type": "stream",
     "text": [
      "2025-04-27 22:37:50.490763: I tensorflow/core/common_runtime/pluggable_device/pluggable_device_factory.cc:305] Could not identify NUMA node of platform GPU ID 0, defaulting to 0. Your kernel may not have been built with NUMA support.\n",
      "2025-04-27 22:37:50.490856: I tensorflow/core/common_runtime/pluggable_device/pluggable_device_factory.cc:271] Created TensorFlow device (/job:localhost/replica:0/task:0/device:GPU:0 with 0 MB memory) -> physical PluggableDevice (device: 0, name: METAL, pci bus id: <undefined>)\n"
     ]
    }
   ],
   "source": [
    "from tensorflow.keras.models import load_model\n",
    "model = load_model('/Users/tuoyuaner/Downloads/WESAD/lstm_emotion_model.h5')\n",
    "\n",
    "y_pred_prob = model.predict(X_sequences)\n",
    "y_pred = np.argmax(y_pred_prob, axis=1)"
   ]
  },
  {
   "cell_type": "code",
   "execution_count": 41,
   "metadata": {},
   "outputs": [
    {
     "data": {
      "text/plain": [
       "2988"
      ]
     },
     "execution_count": 41,
     "metadata": {},
     "output_type": "execute_result"
    }
   ],
   "source": [
    "len(y_pred)"
   ]
  },
  {
   "cell_type": "code",
   "execution_count": 44,
   "metadata": {},
   "outputs": [
    {
     "data": {
      "text/plain": [
       "1    1821\n",
       "0    1027\n",
       "2     140\n",
       "dtype: int64"
      ]
     },
     "execution_count": 44,
     "metadata": {},
     "output_type": "execute_result"
    }
   ],
   "source": [
    "pd.Series(y_pred).value_counts()"
   ]
  },
  {
   "cell_type": "code",
   "execution_count": null,
   "metadata": {},
   "outputs": [],
   "source": []
  }
 ],
 "metadata": {
  "kernelspec": {
   "display_name": "tensorflow_v2",
   "language": "python",
   "name": "python3"
  },
  "language_info": {
   "codemirror_mode": {
    "name": "ipython",
    "version": 3
   },
   "file_extension": ".py",
   "mimetype": "text/x-python",
   "name": "python",
   "nbconvert_exporter": "python",
   "pygments_lexer": "ipython3",
   "version": "3.9.12"
  }
 },
 "nbformat": 4,
 "nbformat_minor": 2
}
